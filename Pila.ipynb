{
  "nbformat": 4,
  "nbformat_minor": 0,
  "metadata": {
    "colab": {
      "name": "Pila",
      "provenance": [],
      "authorship_tag": "ABX9TyN70U2k//ai64Ee1cNsksTk",
      "include_colab_link": true
    },
    "kernelspec": {
      "name": "python3",
      "display_name": "Python 3"
    },
    "language_info": {
      "name": "python"
    }
  },
  "cells": [
    {
      "cell_type": "markdown",
      "metadata": {
        "id": "view-in-github",
        "colab_type": "text"
      },
      "source": [
        "<a href=\"https://colab.research.google.com/github/jazmin08ibieta/Poo2021/blob/main/Pila.ipynb\" target=\"_parent\"><img src=\"https://colab.research.google.com/assets/colab-badge.svg\" alt=\"Open In Colab\"/></a>"
      ]
    },
    {
      "cell_type": "code",
      "metadata": {
        "colab": {
          "base_uri": "https://localhost:8080/"
        },
        "id": "y2UFrra0f8Ou",
        "outputId": "b008da56-49db-4beb-bd28-e98a30d232f0"
      },
      "source": [
        "#Clase pila\n",
        "\n",
        "lista = [6,8,9,5,6,4]\n",
        "\n",
        "for indice in range (4, 5, 1):\n",
        "  print(indice , end= \"\")\n",
        "\n"
      ],
      "execution_count": 53,
      "outputs": [
        {
          "output_type": "stream",
          "name": "stdout",
          "text": [
            "4"
          ]
        }
      ]
    }
  ]
}